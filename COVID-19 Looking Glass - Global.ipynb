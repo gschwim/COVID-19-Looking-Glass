{
 "cells": [
  {
   "cell_type": "markdown",
   "metadata": {},
   "source": [
    "This document pulls the latest Johns Hopkins data for the COVID-19 outbreak in the US and performs some basic analysis.\n",
    "\n",
    "## Commentary\n",
    "\n",
    "Consuming the entire data set introduces lots of uncertainty to some of the graphs. This is largely due to the pattern of growth not being well established. I set a parameter ```start_date``` to set the point at which the graphs are built. March 1, 2020 seems appropriate but there are still wide variations in the growth factor calcluated from the early parts of that data. Visual inspection reveals the data stablilizes around March 20.\n",
    "\n",
    "Growth factor is a measure of inter-day growth and is calculated as follows:\n",
    "\n",
    "    Growth Factor == Cases Today / Cases Yesterday\n",
    "\n",
    "\"Possible Growth Turn\" is the point where Growth Factor is predicted to be 1.0. This is the point where the rate of new confirmed cases may be turning from an exponential growth curve. This may also predict that we are entering a phase of recovery. \n",
    "\n",
    "## Disclaimer\n",
    "\n",
    "I am not an expert in data analysis and am only providing this for anyone that might find casual interest in my work on this. \n",
    "\n",
    "DO NOT REFERENCE THIS ANALYSIS FOR DECISION MAKING!\n",
    "\n",
    "References:\n",
    " - Exponential growth and epidemics - 3Blue1Brown - https://www.youtube.com/watch?v=Kas0tIxDvrg&t=1s\n",
    " - John Hopkins data repository - https://github.com/CSSEGISandData/COVID-19\n",
    " - https://covidtracking.com/api/v1/us/daily.json\n",
    "\n",
    "\n",
    "\n",
    "Author: Greg Schwimer"
   ]
  },
  {
   "cell_type": "code",
   "execution_count": 1,
   "metadata": {},
   "outputs": [],
   "source": [
    "# Knobs. Everyone likes a knob or two!\n",
    "\n",
    "# Use this if you want to look at a state\n",
    "# default to 'US', otherwise use state e.g. 'Arizona' or 'New York'\n",
    "state = 'Arizona' \n",
    "\n",
    "# Adjust to the start date. Data goes back to 1/1/20\n",
    "start_date = '4/15/20'\n",
    "\n",
    "# Adjust the end date if desired\n",
    "end_date = 'Today'"
   ]
  },
  {
   "cell_type": "code",
   "execution_count": 2,
   "metadata": {},
   "outputs": [
    {
     "data": {
      "text/plain": [
       "array(['Afghanistan', 'Albania', 'Algeria', 'Andorra', 'Angola',\n",
       "       'Antigua and Barbuda', 'Argentina', 'Armenia', 'Australia',\n",
       "       'Austria', 'Azerbaijan', 'Bahamas', 'Bahrain', 'Bangladesh',\n",
       "       'Barbados', 'Belarus', 'Belgium', 'Belize', 'Benin', 'Bhutan',\n",
       "       'Bolivia', 'Bosnia and Herzegovina', 'Botswana', 'Brazil',\n",
       "       'Brunei', 'Bulgaria', 'Burkina Faso', 'Burma', 'Burundi',\n",
       "       'Cabo Verde', 'Cambodia', 'Cameroon', 'Canada',\n",
       "       'Central African Republic', 'Chad', 'Chile', 'China', 'Colombia',\n",
       "       'Comoros', 'Congo (Brazzaville)', 'Congo (Kinshasa)', 'Costa Rica',\n",
       "       \"Cote d'Ivoire\", 'Croatia', 'Cuba', 'Cyprus', 'Czechia', 'Denmark',\n",
       "       'Diamond Princess', 'Djibouti', 'Dominica', 'Dominican Republic',\n",
       "       'Ecuador', 'Egypt', 'El Salvador', 'Equatorial Guinea', 'Eritrea',\n",
       "       'Estonia', 'Eswatini', 'Ethiopia', 'Fiji', 'Finland', 'France',\n",
       "       'Gabon', 'Gambia', 'Georgia', 'Germany', 'Ghana', 'Greece',\n",
       "       'Grenada', 'Guatemala', 'Guinea', 'Guinea-Bissau', 'Guyana',\n",
       "       'Haiti', 'Holy See', 'Honduras', 'Hungary', 'Iceland', 'India',\n",
       "       'Indonesia', 'Iran', 'Iraq', 'Ireland', 'Israel', 'Italy',\n",
       "       'Jamaica', 'Japan', 'Jordan', 'Kazakhstan', 'Kenya',\n",
       "       'Korea, South', 'Kosovo', 'Kuwait', 'Kyrgyzstan', 'Laos', 'Latvia',\n",
       "       'Lebanon', 'Lesotho', 'Liberia', 'Libya', 'Liechtenstein',\n",
       "       'Lithuania', 'Luxembourg', 'MS Zaandam', 'Madagascar', 'Malawi',\n",
       "       'Malaysia', 'Maldives', 'Mali', 'Malta', 'Mauritania', 'Mauritius',\n",
       "       'Mexico', 'Moldova', 'Monaco', 'Mongolia', 'Montenegro', 'Morocco',\n",
       "       'Mozambique', 'Namibia', 'Nepal', 'Netherlands', 'New Zealand',\n",
       "       'Nicaragua', 'Niger', 'Nigeria', 'North Macedonia', 'Norway',\n",
       "       'Oman', 'Pakistan', 'Panama', 'Papua New Guinea', 'Paraguay',\n",
       "       'Peru', 'Philippines', 'Poland', 'Portugal', 'Qatar', 'Romania',\n",
       "       'Russia', 'Rwanda', 'Saint Kitts and Nevis', 'Saint Lucia',\n",
       "       'Saint Vincent and the Grenadines', 'San Marino',\n",
       "       'Sao Tome and Principe', 'Saudi Arabia', 'Senegal', 'Serbia',\n",
       "       'Seychelles', 'Sierra Leone', 'Singapore', 'Slovakia', 'Slovenia',\n",
       "       'Solomon Islands', 'Somalia', 'South Africa', 'South Sudan',\n",
       "       'Spain', 'Sri Lanka', 'Sudan', 'Suriname', 'Sweden', 'Switzerland',\n",
       "       'Syria', 'Taiwan*', 'Tajikistan', 'Tanzania', 'Thailand',\n",
       "       'Timor-Leste', 'Togo', 'Trinidad and Tobago', 'Tunisia', 'Turkey',\n",
       "       'US', 'Uganda', 'Ukraine', 'United Arab Emirates',\n",
       "       'United Kingdom', 'Uruguay', 'Uzbekistan', 'Venezuela', 'Vietnam',\n",
       "       'West Bank and Gaza', 'Western Sahara', 'Yemen', 'Zambia',\n",
       "       'Zimbabwe'], dtype=object)"
      ]
     },
     "execution_count": 2,
     "metadata": {},
     "output_type": "execute_result"
    }
   ],
   "source": [
    "import pandas as pd\n",
    "import numpy as np\n",
    "from scipy import stats\n",
    "import matplotlib.pyplot as plt\n",
    "import os\n",
    "\n",
    "# Get the Johns Hopkins Time Series data\n",
    "# raw = pd.read_csv('https://raw.githubusercontent.com/CSSEGISandData/COVID-19/master/csse_covid_19_data/csse_covid_19_time_series/time_series_covid19_confirmed_US.csv')\n",
    "# rawd = pd.read_csv('https://raw.githubusercontent.com/CSSEGISandData/COVID-19/master/csse_covid_19_data/csse_covid_19_time_series/time_series_covid19_deaths_US.csv')\n",
    "raw = pd.read_csv('https://raw.githubusercontent.com/CSSEGISandData/COVID-19/master/csse_covid_19_data/csse_covid_19_time_series/time_series_covid19_confirmed_global.csv')\n",
    "rawd = pd.read_csv('https://raw.githubusercontent.com/CSSEGISandData/COVID-19/master/csse_covid_19_data/csse_covid_19_time_series/time_series_covid19_deaths_global.csv')\n",
    "raw['Country/Region'].unique()"
   ]
  },
  {
   "cell_type": "code",
   "execution_count": 25,
   "metadata": {},
   "outputs": [
    {
     "name": "stderr",
     "output_type": "stream",
     "text": [
      "/Users/schwim/.pyenv/versions/3.8.5/lib/python3.8/site-packages/pandas/plotting/_matplotlib/core.py:1235: UserWarning: FixedFormatter should only be used together with FixedLocator\n",
      "  ax.set_xticklabels(xticklabels)\n"
     ]
    },
    {
     "data": {
      "text/plain": [
       "<AxesSubplot:>"
      ]
     },
     "execution_count": 25,
     "metadata": {},
     "output_type": "execute_result"
    },
    {
     "data": {
      "image/png": "[encoded data removed]",
      "text/plain": [
       "<Figure size 432x288 with 1 Axes>"
      ]
     },
     "metadata": {
      "needs_background": "light"
     },
     "output_type": "display_data"
    }
   ],
   "source": [
    "co = raw.loc[raw['Country/Region'].isin(['France'])].sum()\n",
    "(co[155:] / co[155:].shift()).rolling(7).mean().plot()\n",
    "#co[155:]"
   ]
  },
  {
   "cell_type": "code",
   "execution_count": 30,
   "metadata": {},
   "outputs": [
    {
     "name": "stderr",
     "output_type": "stream",
     "text": [
      "/Users/schwim/.pyenv/versions/3.8.5/lib/python3.8/site-packages/pandas/plotting/_matplotlib/core.py:1235: UserWarning: FixedFormatter should only be used together with FixedLocator\n",
      "  ax.set_xticklabels(xticklabels)\n"
     ]
    },
    {
     "data": {
      "text/plain": [
       "<AxesSubplot:>"
      ]
     },
     "execution_count": 30,
     "metadata": {},
     "output_type": "execute_result"
    },
    {
     "data": {
      "image/png": "[encoded data removed]",
      "text/plain": [
       "<Figure size 432x288 with 1 Axes>"
      ]
     },
     "metadata": {
      "needs_background": "light"
     },
     "output_type": "display_data"
    }
   ],
   "source": [
    "cod = rawd.loc[raw['Country/Region'].isin(['France'])].sum()\n",
    "(cod[155:] - cod[155:].shift()).rolling(7).mean().plot()\n",
    "\n"
   ]
  },
  {
   "cell_type": "code",
   "execution_count": 5,
   "metadata": {},
   "outputs": [
    {
     "name": "stderr",
     "output_type": "stream",
     "text": [
      "/Users/schwim/.pyenv/versions/3.8.5/lib/python3.8/site-packages/pandas/plotting/_matplotlib/core.py:1235: UserWarning: FixedFormatter should only be used together with FixedLocator\n",
      "  ax.set_xticklabels(xticklabels)\n"
     ]
    },
    {
     "data": {
      "text/plain": [
       "<AxesSubplot:>"
      ]
     },
     "execution_count": 5,
     "metadata": {},
     "output_type": "execute_result"
    },
    {
     "data": {
      "image/png": "[encoded data removed]",
      "text/plain": [
       "<Figure size 432x288 with 1 Axes>"
      ]
     },
     "metadata": {
      "needs_background": "light"
     },
     "output_type": "display_data"
    }
   ],
   "source": [
    "comb = pd.DataFrame([co, cod]).T[100:]\n",
    "comb.columns = ['positive', 'deaths']\n",
    "comb.loc[:, 'deathGrowth'] = comb.deaths / comb.deaths.shift()\n",
    "comb['deathGrowth'].plot()"
   ]
  },
  {
   "cell_type": "code",
   "execution_count": 6,
   "metadata": {},
   "outputs": [
    {
     "data": {
      "text/html": [
       "<div>\n",
       "<style scoped>\n",
       "    .dataframe tbody tr th:only-of-type {\n",
       "        vertical-align: middle;\n",
       "    }\n",
       "\n",
       "    .dataframe tbody tr th {\n",
       "        vertical-align: top;\n",
       "    }\n",
       "\n",
       "    .dataframe thead th {\n",
       "        text-align: right;\n",
       "    }\n",
       "</style>\n",
       "<table border=\"1\" class=\"dataframe\">\n",
       "  <thead>\n",
       "    <tr style=\"text-align: right;\">\n",
       "      <th></th>\n",
       "      <th>positive</th>\n",
       "      <th>deaths</th>\n",
       "      <th>deathGrowth</th>\n",
       "    </tr>\n",
       "  </thead>\n",
       "  <tbody>\n",
       "    <tr>\n",
       "      <th>10/18/20</th>\n",
       "      <td>725292</td>\n",
       "      <td>33325</td>\n",
       "      <td>1</td>\n",
       "    </tr>\n",
       "    <tr>\n",
       "      <th>10/19/20</th>\n",
       "      <td>744122</td>\n",
       "      <td>33647</td>\n",
       "      <td>1.00966</td>\n",
       "    </tr>\n",
       "    <tr>\n",
       "      <th>10/20/20</th>\n",
       "      <td>765487</td>\n",
       "      <td>33928</td>\n",
       "      <td>1.00835</td>\n",
       "    </tr>\n",
       "    <tr>\n",
       "      <th>10/21/20</th>\n",
       "      <td>792194</td>\n",
       "      <td>34075</td>\n",
       "      <td>1.00433</td>\n",
       "    </tr>\n",
       "    <tr>\n",
       "      <th>10/22/20</th>\n",
       "      <td>813451</td>\n",
       "      <td>34237</td>\n",
       "      <td>1.00475</td>\n",
       "    </tr>\n",
       "    <tr>\n",
       "      <th>10/23/20</th>\n",
       "      <td>834010</td>\n",
       "      <td>34536</td>\n",
       "      <td>1.00873</td>\n",
       "    </tr>\n",
       "    <tr>\n",
       "      <th>10/24/20</th>\n",
       "      <td>857043</td>\n",
       "      <td>34536</td>\n",
       "      <td>1</td>\n",
       "    </tr>\n",
       "    <tr>\n",
       "      <th>10/25/20</th>\n",
       "      <td>876840</td>\n",
       "      <td>34536</td>\n",
       "      <td>1</td>\n",
       "    </tr>\n",
       "    <tr>\n",
       "      <th>10/26/20</th>\n",
       "      <td>897740</td>\n",
       "      <td>35052</td>\n",
       "      <td>1.01494</td>\n",
       "    </tr>\n",
       "    <tr>\n",
       "      <th>10/27/20</th>\n",
       "      <td>920664</td>\n",
       "      <td>35582</td>\n",
       "      <td>1.01512</td>\n",
       "    </tr>\n",
       "  </tbody>\n",
       "</table>\n",
       "</div>"
      ],
      "text/plain": [
       "         positive deaths deathGrowth\n",
       "10/18/20   725292  33325           1\n",
       "10/19/20   744122  33647     1.00966\n",
       "10/20/20   765487  33928     1.00835\n",
       "10/21/20   792194  34075     1.00433\n",
       "10/22/20   813451  34237     1.00475\n",
       "10/23/20   834010  34536     1.00873\n",
       "10/24/20   857043  34536           1\n",
       "10/25/20   876840  34536           1\n",
       "10/26/20   897740  35052     1.01494\n",
       "10/27/20   920664  35582     1.01512"
      ]
     },
     "execution_count": 6,
     "metadata": {},
     "output_type": "execute_result"
    }
   ],
   "source": [
    "comb.tail(10)\n"
   ]
  },
  {
   "cell_type": "code",
   "execution_count": 7,
   "metadata": {},
   "outputs": [
    {
     "name": "stderr",
     "output_type": "stream",
     "text": [
      "<>:4: SyntaxWarning: \"is not\" with a literal. Did you mean \"!=\"?\n",
      "<>:4: SyntaxWarning: \"is not\" with a literal. Did you mean \"!=\"?\n",
      "<ipython-input-7-2afbeb181720>:4: SyntaxWarning: \"is not\" with a literal. Did you mean \"!=\"?\n",
      "  if state is not 'US':\n"
     ]
    },
    {
     "ename": "KeyError",
     "evalue": "'Province_State'",
     "output_type": "error",
     "traceback": [
      "\u001b[0;31m---------------------------------------------------------------------------\u001b[0m",
      "\u001b[0;31mKeyError\u001b[0m                                  Traceback (most recent call last)",
      "\u001b[0;32m~/.pyenv/versions/3.8.5/lib/python3.8/site-packages/pandas/core/indexes/base.py\u001b[0m in \u001b[0;36mget_loc\u001b[0;34m(self, key, method, tolerance)\u001b[0m\n\u001b[1;32m   2888\u001b[0m             \u001b[0;32mtry\u001b[0m\u001b[0;34m:\u001b[0m\u001b[0;34m\u001b[0m\u001b[0;34m\u001b[0m\u001b[0m\n\u001b[0;32m-> 2889\u001b[0;31m                 \u001b[0;32mreturn\u001b[0m \u001b[0mself\u001b[0m\u001b[0;34m.\u001b[0m\u001b[0m_engine\u001b[0m\u001b[0;34m.\u001b[0m\u001b[0mget_loc\u001b[0m\u001b[0;34m(\u001b[0m\u001b[0mcasted_key\u001b[0m\u001b[0;34m)\u001b[0m\u001b[0;34m\u001b[0m\u001b[0;34m\u001b[0m\u001b[0m\n\u001b[0m\u001b[1;32m   2890\u001b[0m             \u001b[0;32mexcept\u001b[0m \u001b[0mKeyError\u001b[0m \u001b[0;32mas\u001b[0m \u001b[0merr\u001b[0m\u001b[0;34m:\u001b[0m\u001b[0;34m\u001b[0m\u001b[0;34m\u001b[0m\u001b[0m\n",
      "\u001b[0;32mpandas/_libs/index.pyx\u001b[0m in \u001b[0;36mpandas._libs.index.IndexEngine.get_loc\u001b[0;34m()\u001b[0m\n",
      "\u001b[0;32mpandas/_libs/index.pyx\u001b[0m in \u001b[0;36mpandas._libs.index.IndexEngine.get_loc\u001b[0;34m()\u001b[0m\n",
      "\u001b[0;32mpandas/_libs/hashtable_class_helper.pxi\u001b[0m in \u001b[0;36mpandas._libs.hashtable.PyObjectHashTable.get_item\u001b[0;34m()\u001b[0m\n",
      "\u001b[0;32mpandas/_libs/hashtable_class_helper.pxi\u001b[0m in \u001b[0;36mpandas._libs.hashtable.PyObjectHashTable.get_item\u001b[0;34m()\u001b[0m\n",
      "\u001b[0;31mKeyError\u001b[0m: 'Province_State'",
      "\nThe above exception was the direct cause of the following exception:\n",
      "\u001b[0;31mKeyError\u001b[0m                                  Traceback (most recent call last)",
      "\u001b[0;32m<ipython-input-7-2afbeb181720>\u001b[0m in \u001b[0;36m<module>\u001b[0;34m\u001b[0m\n\u001b[1;32m      3\u001b[0m \u001b[0;31m# Pick out the state if that is set\u001b[0m\u001b[0;34m\u001b[0m\u001b[0;34m\u001b[0m\u001b[0;34m\u001b[0m\u001b[0m\n\u001b[1;32m      4\u001b[0m \u001b[0;32mif\u001b[0m \u001b[0mstate\u001b[0m \u001b[0;32mis\u001b[0m \u001b[0;32mnot\u001b[0m \u001b[0;34m'US'\u001b[0m\u001b[0;34m:\u001b[0m\u001b[0;34m\u001b[0m\u001b[0;34m\u001b[0m\u001b[0m\n\u001b[0;32m----> 5\u001b[0;31m     \u001b[0mdata\u001b[0m \u001b[0;34m=\u001b[0m \u001b[0mraw\u001b[0m\u001b[0;34m.\u001b[0m\u001b[0mloc\u001b[0m\u001b[0;34m[\u001b[0m\u001b[0mraw\u001b[0m\u001b[0;34m[\u001b[0m\u001b[0;34m'Province_State'\u001b[0m\u001b[0;34m]\u001b[0m \u001b[0;34m==\u001b[0m \u001b[0mstate\u001b[0m\u001b[0;34m]\u001b[0m\u001b[0;34m.\u001b[0m\u001b[0mcopy\u001b[0m\u001b[0;34m(\u001b[0m\u001b[0;34m)\u001b[0m\u001b[0;34m\u001b[0m\u001b[0;34m\u001b[0m\u001b[0m\n\u001b[0m\u001b[1;32m      6\u001b[0m     \u001b[0mddata\u001b[0m \u001b[0;34m=\u001b[0m \u001b[0mrawd\u001b[0m\u001b[0;34m.\u001b[0m\u001b[0mloc\u001b[0m\u001b[0;34m[\u001b[0m\u001b[0mraw\u001b[0m\u001b[0;34m[\u001b[0m\u001b[0;34m'Province_State'\u001b[0m\u001b[0;34m]\u001b[0m \u001b[0;34m==\u001b[0m \u001b[0mstate\u001b[0m\u001b[0;34m]\u001b[0m\u001b[0;34m.\u001b[0m\u001b[0mcopy\u001b[0m\u001b[0;34m(\u001b[0m\u001b[0;34m)\u001b[0m\u001b[0;34m\u001b[0m\u001b[0;34m\u001b[0m\u001b[0m\n\u001b[1;32m      7\u001b[0m \u001b[0;32melse\u001b[0m\u001b[0;34m:\u001b[0m\u001b[0;34m\u001b[0m\u001b[0;34m\u001b[0m\u001b[0m\n",
      "\u001b[0;32m~/.pyenv/versions/3.8.5/lib/python3.8/site-packages/pandas/core/frame.py\u001b[0m in \u001b[0;36m__getitem__\u001b[0;34m(self, key)\u001b[0m\n\u001b[1;32m   2897\u001b[0m             \u001b[0;32mif\u001b[0m \u001b[0mself\u001b[0m\u001b[0;34m.\u001b[0m\u001b[0mcolumns\u001b[0m\u001b[0;34m.\u001b[0m\u001b[0mnlevels\u001b[0m \u001b[0;34m>\u001b[0m \u001b[0;36m1\u001b[0m\u001b[0;34m:\u001b[0m\u001b[0;34m\u001b[0m\u001b[0;34m\u001b[0m\u001b[0m\n\u001b[1;32m   2898\u001b[0m                 \u001b[0;32mreturn\u001b[0m \u001b[0mself\u001b[0m\u001b[0;34m.\u001b[0m\u001b[0m_getitem_multilevel\u001b[0m\u001b[0;34m(\u001b[0m\u001b[0mkey\u001b[0m\u001b[0;34m)\u001b[0m\u001b[0;34m\u001b[0m\u001b[0;34m\u001b[0m\u001b[0m\n\u001b[0;32m-> 2899\u001b[0;31m             \u001b[0mindexer\u001b[0m \u001b[0;34m=\u001b[0m \u001b[0mself\u001b[0m\u001b[0;34m.\u001b[0m\u001b[0mcolumns\u001b[0m\u001b[0;34m.\u001b[0m\u001b[0mget_loc\u001b[0m\u001b[0;34m(\u001b[0m\u001b[0mkey\u001b[0m\u001b[0;34m)\u001b[0m\u001b[0;34m\u001b[0m\u001b[0;34m\u001b[0m\u001b[0m\n\u001b[0m\u001b[1;32m   2900\u001b[0m             \u001b[0;32mif\u001b[0m \u001b[0mis_integer\u001b[0m\u001b[0;34m(\u001b[0m\u001b[0mindexer\u001b[0m\u001b[0;34m)\u001b[0m\u001b[0;34m:\u001b[0m\u001b[0;34m\u001b[0m\u001b[0;34m\u001b[0m\u001b[0m\n\u001b[1;32m   2901\u001b[0m                 \u001b[0mindexer\u001b[0m \u001b[0;34m=\u001b[0m \u001b[0;34m[\u001b[0m\u001b[0mindexer\u001b[0m\u001b[0;34m]\u001b[0m\u001b[0;34m\u001b[0m\u001b[0;34m\u001b[0m\u001b[0m\n",
      "\u001b[0;32m~/.pyenv/versions/3.8.5/lib/python3.8/site-packages/pandas/core/indexes/base.py\u001b[0m in \u001b[0;36mget_loc\u001b[0;34m(self, key, method, tolerance)\u001b[0m\n\u001b[1;32m   2889\u001b[0m                 \u001b[0;32mreturn\u001b[0m \u001b[0mself\u001b[0m\u001b[0;34m.\u001b[0m\u001b[0m_engine\u001b[0m\u001b[0;34m.\u001b[0m\u001b[0mget_loc\u001b[0m\u001b[0;34m(\u001b[0m\u001b[0mcasted_key\u001b[0m\u001b[0;34m)\u001b[0m\u001b[0;34m\u001b[0m\u001b[0;34m\u001b[0m\u001b[0m\n\u001b[1;32m   2890\u001b[0m             \u001b[0;32mexcept\u001b[0m \u001b[0mKeyError\u001b[0m \u001b[0;32mas\u001b[0m \u001b[0merr\u001b[0m\u001b[0;34m:\u001b[0m\u001b[0;34m\u001b[0m\u001b[0;34m\u001b[0m\u001b[0m\n\u001b[0;32m-> 2891\u001b[0;31m                 \u001b[0;32mraise\u001b[0m \u001b[0mKeyError\u001b[0m\u001b[0;34m(\u001b[0m\u001b[0mkey\u001b[0m\u001b[0;34m)\u001b[0m \u001b[0;32mfrom\u001b[0m \u001b[0merr\u001b[0m\u001b[0;34m\u001b[0m\u001b[0;34m\u001b[0m\u001b[0m\n\u001b[0m\u001b[1;32m   2892\u001b[0m \u001b[0;34m\u001b[0m\u001b[0m\n\u001b[1;32m   2893\u001b[0m         \u001b[0;32mif\u001b[0m \u001b[0mtolerance\u001b[0m \u001b[0;32mis\u001b[0m \u001b[0;32mnot\u001b[0m \u001b[0;32mNone\u001b[0m\u001b[0;34m:\u001b[0m\u001b[0;34m\u001b[0m\u001b[0;34m\u001b[0m\u001b[0m\n",
      "\u001b[0;31mKeyError\u001b[0m: 'Province_State'"
     ]
    }
   ],
   "source": [
    "# tenderize the data a little bit\n",
    "\n",
    "# Pick out the state if that is set\n",
    "if state is not 'US':\n",
    "    data = raw.loc[raw['Province_State'] == state].copy()\n",
    "    ddata = rawd.loc[raw['Province_State'] == state].copy()\n",
    "else:\n",
    "    data = raw.loc[raw['iso2'] == 'US'].copy()\n",
    "    ddata = rawd.loc[raw['iso2'] == 'US'].copy()\n",
    "\n",
    "# timeseries only\n",
    "data = data.iloc[:, 12:]\n",
    "ddata = ddata.iloc[:, 12:]\n",
    "\n",
    "# summarize the data\n",
    "summary = data.sum()\n",
    "summary.index = pd.to_datetime(summary.index)\n",
    "summary = summary.sort_index()\n",
    "dsummary = ddata.sum()\n",
    "dsummary.index = pd.to_datetime(dsummary.index)\n",
    "dsummary = dsummary.sort_index()"
   ]
  },
  {
   "cell_type": "code",
   "execution_count": null,
   "metadata": {},
   "outputs": [],
   "source": []
  },
  {
   "cell_type": "code",
   "execution_count": null,
   "metadata": {
    "scrolled": false
   },
   "outputs": [],
   "source": [
    "# Confirmed cases\n",
    "\n",
    "# limits on the data - helps get rid of uncertainty in early data\n",
    "# if end_date.lower() is 'today':\n",
    "#     counts = summary[start_date:end_date]\n",
    "# else:\n",
    "#     counts = summary[start_date:]\n",
    "counts = summary\n",
    "\n",
    "fig = plt.figure(figsize=(16,12))\n",
    "ax = fig.add_subplot(111)\n",
    "ax.set_yscale('linear')\n",
    "ax.plot(counts)\n",
    "every_nth = 4\n",
    "for n, label in enumerate(ax.xaxis.get_ticklabels()):\n",
    "    if n % every_nth != 0:\n",
    "        label.set_visible(False)\n",
    "plt.xticks(rotation=45)\n",
    "plt.legend(('Total',), shadow=True, loc='upper left')\n",
    "plt.title('Confirmed Cases - {} - LINEAR Scale'.format(state), fontsize='xx-large')\n",
    "plt.show()\n",
    "\n",
    "\n",
    "fig = plt.figure(figsize=(16,12))\n",
    "ax = fig.add_subplot(111)\n",
    "ax.set_yscale('log')\n",
    "ax.plot(counts)\n",
    "every_nth = 4\n",
    "for n, label in enumerate(ax.xaxis.get_ticklabels()):\n",
    "    if n % every_nth != 0:\n",
    "        label.set_visible(False)\n",
    "plt.xticks(rotation=45)\n",
    "plt.legend(('Total',), shadow=True, loc='upper left')\n",
    "plt.title('Confirmed Cases - {} - LOG Scale'.format(state), fontsize='xx-large')\n",
    "plt.show()"
   ]
  },
  {
   "cell_type": "code",
   "execution_count": null,
   "metadata": {},
   "outputs": [],
   "source": [
    "# Confirmed cases\n",
    "\n",
    "# limits on the data - helps get rid of uncertainty in early data\n",
    "if end_date.lower() is 'today':\n",
    "    dcounts = dsummary[start_date:end_date]\n",
    "else:\n",
    "    dcounts = dsummary[start_date:]\n",
    "\n",
    "fig = plt.figure(figsize=(16,12))\n",
    "ax = fig.add_subplot(111)\n",
    "ax.set_yscale('linear')\n",
    "ax.plot(dcounts)\n",
    "every_nth = 4\n",
    "for n, label in enumerate(ax.xaxis.get_ticklabels()):\n",
    "    if n % every_nth != 0:\n",
    "        label.set_visible(False)\n",
    "plt.xticks(rotation=45)\n",
    "plt.legend(('Total',), shadow=True, loc='upper left')\n",
    "plt.title('Deaths - {} - LINEAR Scale'.format(state), fontsize='xx-large')\n",
    "plt.show()\n",
    "\n",
    "\n",
    "fig = plt.figure(figsize=(16,12))\n",
    "ax = fig.add_subplot(111)\n",
    "ax.set_yscale('log')\n",
    "ax.plot(dcounts)\n",
    "every_nth = 4\n",
    "for n, label in enumerate(ax.xaxis.get_ticklabels()):\n",
    "    if n % every_nth != 0:\n",
    "        label.set_visible(False)\n",
    "plt.xticks(rotation=45)\n",
    "plt.legend(('Total',), shadow=True, loc='upper left')\n",
    "plt.title('Deaths - {} - LOG Scale'.format(state), fontsize='xx-large')\n",
    "plt.show()"
   ]
  },
  {
   "cell_type": "code",
   "execution_count": null,
   "metadata": {
    "scrolled": false
   },
   "outputs": [],
   "source": [
    "# Growth Factor Analysis\n",
    "\n",
    "# Growth is calculated as (day / (day - 1))\n",
    "growth = summary / summary.shift()\n",
    "growth = growth.fillna(growth.median()) # get rid of NaNs\n",
    "if end_date.lower() is 'today':\n",
    "    growth = growth[start_date:end_date]\n",
    "else:\n",
    "    growth = growth[start_date:]\n",
    "\n",
    "# growth = growth[start_date:] # limit to drop out early data w/ lots of uncertainty\n",
    "\n",
    "# linreg to establish the growth trend - DEPRECATED\n",
    "lr = stats.linregress(range(growth.shape[0]), growth.values)\n",
    "linreg = pd.Series([(lr[1] + lr[0] * x) for x in range(growth.shape[0])],\n",
    "                   index=growth.index)\n",
    "\n",
    "# theil slope to establish the growth trend\n",
    "ts = stats.theilslopes(growth.values, range(growth.shape[0]), 0.95)\n",
    "tslopes = pd.Series([(ts[1] + ts[0] * x) for x in range(growth.shape[0])], \n",
    "                    index=growth.index)\n",
    "tslopes_lower = pd.Series([(ts[1] + ts[2] * x) for x in range(growth.shape[0])], \n",
    "                          index=growth.index)\n",
    "tslopes_upper = pd.Series([(ts[1] + ts[3] * x) for x in range(growth.shape[0])], \n",
    "                          index=growth.index)\n",
    "\n",
    "# How long until growth factor 1? \n",
    "days_to_one = ((1 - ts[1]) / ts[0]) - growth.shape[0]\n",
    "days_to_one_low = ((1 - ts[1]) / ts[2]) - growth.shape[0]\n",
    "days_to_one_hi = ((1 - ts[1]) / ts[3]) - growth.shape[0]\n",
    "\n",
    "# plot the growth factor and trend\n",
    "\n",
    "fig = plt.figure(figsize=(16,12))\n",
    "ax = fig.add_subplot(111)\n",
    "ax.plot(growth, 'b-')\n",
    "ax.plot(linreg, 'g-')\n",
    "ax.plot(tslopes, 'r-')\n",
    "ax.plot(tslopes_upper, 'y--')\n",
    "ax.plot(tslopes_lower, 'y--')\n",
    "ax.text(.4, .8,\n",
    "        'Estimated Remaining to Possible Growth Turn: ~{:.1f} Days\\n (Range: {:.1f} - {:.1f} Days)\\nLatest Growth Factor: {:.3f}'\\\n",
    "        .format(days_to_one, days_to_one_low, days_to_one_hi, growth[-1]), \n",
    "        fontsize='xx-large', transform=ax.transAxes)\n",
    "plt.xticks(rotation=45)\n",
    "plt.legend(('Daily', 'Linear Regression', 'Theil-Sen'), shadow=True, loc='upper right')\n",
    "plt.title('Growth Factor over Time - {}'.format(state), fontsize='xx-large')\n",
    "plt.grid(axis='y')\n",
    "plt.show()"
   ]
  },
  {
   "cell_type": "code",
   "execution_count": null,
   "metadata": {
    "scrolled": false
   },
   "outputs": [],
   "source": [
    "total_cases = counts[-1]\n",
    "daily_counts = (counts - counts.shift()).dropna()\n",
    "rolling_7day = daily_counts.rolling(7).mean()\n",
    "\n",
    "fig = plt.figure(figsize=(16,12))\n",
    "ax = fig.add_subplot(111)\n",
    "ax.plot(rolling_7day, 'b-')\n",
    "ax.plot(daily_counts, 'r-')\n",
    "plt.xticks(rotation=45)\n",
    "plt.legend(('Average', 'Daily'), shadow=True, loc='upper right')\n",
    "plt.title('7 Day Moving Average - {}'.format(state), fontsize='xx-large')\n",
    "plt.grid(axis='y')\n",
    "plt.show()\n",
    "\n",
    "print('Total Confirmed Cases {} - {}: {}\\n'.format(start_date, end_date, total_cases))\n",
    "print('Daily New Cases:\\n{}'.format(daily_counts))\n",
    "print('_' * 20)\n",
    "\n",
    "total_deaths = dcounts[-1]\n",
    "daily_deaths = (dcounts - dcounts.shift()).dropna()\n",
    "\n",
    "print('Total Deaths {} - {}: {}\\n'.format(start_date, end_date, total_deaths))\n",
    "print('Daily Deaths:\\n{}'.format(daily_deaths))\n",
    "\n",
    "print('Death Rate: {:.2f}%'.format((total_deaths/total_cases) * 100))"
   ]
  },
  {
   "cell_type": "code",
   "execution_count": null,
   "metadata": {},
   "outputs": [],
   "source": []
  },
  {
   "cell_type": "code",
   "execution_count": null,
   "metadata": {},
   "outputs": [],
   "source": [
    "# some set up\n",
    "\n",
    "# gets the data from CovidTracking.com.\n",
    "def getDataCovidTracking(get_states=False):\n",
    "    \n",
    "    if get_states is False:\n",
    "        url = 'https://covidtracking.com/api/v1/us/daily.json'\n",
    "    else:\n",
    "        url = 'https://covidtracking.com/api/v1/states/daily.json'\n",
    "        \n",
    "    locations = {'us': '', 'states': ''}\n",
    "        \n",
    "    for x, location in enumerate(locations):\n",
    "        \n",
    "        url = 'https://covidtracking.com/api/v1/{}/daily.json'.format(location)\n",
    "        \n",
    "        data = pd.read_json(url)    \n",
    "    # fix the dates\n",
    "        data.loc[:, 'date'] = data.date.apply(str)\n",
    "        data.loc[:, 'date'] = data.date.apply(lambda x: '{}-{}-{}'.format(x[4:6],x[6:8],x[0:4]))\n",
    "        data = data.set_index('date').sort_index()\n",
    "        locations[location] = data\n",
    "    \n",
    "    return locations\n",
    "\n",
    "def pltStats(title=None, cols=[], scale='linear', data=None, marker=None):\n",
    "    \n",
    "    if data is None:\n",
    "        print('Data needs to be fed here.')\n",
    "        return\n",
    "\n",
    "    # set up the framework\n",
    "    fig = plt.figure(figsize=(16,12))\n",
    "    ax = fig.add_subplot(111)\n",
    "    ax.set_yscale(scale)\n",
    "\n",
    "    # add the plots\n",
    "    for n, col in enumerate(cols):\n",
    "        \n",
    "        ax.plot(data[col])\n",
    "    \n",
    "\n",
    "    ### if marker is not None:\n",
    "    #maxX = data.max().max()\n",
    "#     ax.add_line('06-01-2020', 0, 1000, label='Protests Start')\n",
    "    \n",
    "    # adjust the tics on the x axis\n",
    "    every_nth = 4\n",
    "    for n, label in enumerate(ax.xaxis.get_ticklabels()):\n",
    "        if n % every_nth != 0:\n",
    "            label.set_visible(False)\n",
    "    plt.xticks(rotation=45)\n",
    "    \n",
    "    # legendary, this part...\n",
    "    plt.legend(cols, shadow=True, loc='upper left')\n",
    "    plt.title('{}'.format(title), fontsize='xx-large')\n",
    "    plt.grid(axis='y')\n",
    "    plt.show()\n",
    "\n",
    "    \n",
    "def makeStats(data=None):\n",
    "    \n",
    "        df = data\n",
    "        df.loc[:, 'mortalityRate'] = (df.death / df.positive) * 100\n",
    "    \n",
    "        # daily delta = today - yesterday then smooth with a rolling 3 mean\n",
    "        r = 3\n",
    "        df.loc[:, 'positiveDaily'] = (df.positive - df.positive.shift()).rolling(r).mean()\n",
    "        df.loc[:, 'negativeDaily'] = (df.negative - df.negative.shift()).rolling(r).mean()\n",
    "        df.loc[:, 'deathDaily'] = (df.death - df.death.shift()).rolling(r).mean()\n",
    "        df.loc[:, 'hospitalizedDaily'] = (df.hospitalizedCurrently - df.hospitalizedCurrently.shift()).rolling(r).mean()\n",
    "        df.loc[:, 'hospitalizedDaily2'] = (df.hospitalizedCurrently - df.hospitalizedCurrently.shift())\n",
    "        df.loc[:, 'recoveredDaily'] = (df.recovered - df.recovered.shift()).rolling(r).mean()\n",
    "\n",
    "        # Growth factor = today / yesteday then take a rolling 7 mean.\n",
    "        r = 7\n",
    "        df.loc[:,'positiveGrowth'] = (df.positive / df.positive.shift()).rolling(r).mean()\n",
    "        df.loc[:, 'deathGrowth'] = (df.death / df.death.shift()).rolling(r).mean()\n",
    "        return df\n",
    "\n",
    "\n",
    "def makeReport(reports=None, data=None, start_date=None):\n",
    "\n",
    "        # need to make the stats first\n",
    "#         data = makeStats(data=data)\n",
    "        \n",
    "        # make the graphs\n",
    "        for title, cols in reports.items():\n",
    "            print('{} - {} - {}'.format('#' * 20, location, '#' * 20))\n",
    "            title = '{} - {}'.format(location, title)\n",
    "            pltStats(title=title, cols=cols, data=data[data.index >= start_date])\n",
    "            \n",
    "    \n",
    "\n",
    "\n",
    "\n",
    "\n",
    "\n"
   ]
  },
  {
   "cell_type": "code",
   "execution_count": null,
   "metadata": {},
   "outputs": [],
   "source": [
    "# get the data\n",
    "us, allStates = getDataCovidTracking().values()\n",
    "\n",
    "# put it all in an dict so we end up with location: data that we can iterate through:\n",
    "states = {'US': us}\n",
    "\n",
    "# split out the states we want and add them to the dict\n",
    "for x, y in enumerate(allStates.state.unique()):\n",
    "    thisState = allStates.loc[allStates['state'] == y, :]\n",
    "    states[y] = thisState"
   ]
  },
  {
   "cell_type": "code",
   "execution_count": null,
   "metadata": {},
   "outputs": [],
   "source": [
    "\n"
   ]
  },
  {
   "cell_type": "code",
   "execution_count": null,
   "metadata": {},
   "outputs": [],
   "source": []
  },
  {
   "cell_type": "code",
   "execution_count": null,
   "metadata": {},
   "outputs": [],
   "source": []
  },
  {
   "cell_type": "code",
   "execution_count": null,
   "metadata": {
    "scrolled": false
   },
   "outputs": [],
   "source": [
    "reportAll = False\n",
    "roi = ['AZ', 'CA', 'WA']\n",
    "\n",
    "start_date = '04-15-2020'\n",
    "\n",
    "reports = {\n",
    "    # 'Cumulative Postive vs. Deaths vs. Recovered vs Hospitalized' : ['positive', 'death', 'recovered', 'hospitalizedCumulative'],\n",
    "    'Daily Positive vs Deaths vs Recovered vs Hospitalized' : ['positiveDaily', 'deathDaily', 'recoveredDaily', 'hospitalizedDaily'],\n",
    "    'Positive Measurement Growth Rate in Pct': ['positiveGrowth'],\n",
    "    'Mortality Rate in Pct': ['mortalityRate'],\n",
    "    'Deaths Growth Rate in Pct' : ['deathGrowth']\n",
    "}\n",
    "\n",
    "positiveAll = pd.DataFrame()\n",
    "positiveGrowthAll = pd.DataFrame()\n",
    "\n",
    "for x, location in enumerate(states):\n",
    "    if reportAll is True:\n",
    "        states[location] = makeStats(data=states[location])\n",
    "\n",
    "        makeReport(reports=reports, data=states[location], start_date=start_date)\n",
    "        positiveAll.loc[:, location] = states[location].positiveDaily\n",
    "        positiveGrowthAll.loc[:, location] = states[location].positiveGrowth\n",
    "\n",
    "    elif location in roi:\n",
    "        states[location] = makeStats(data=states[location])\n",
    "\n",
    "        makeReport(reports=reports, data=states[location], start_date=start_date)\n",
    "        positiveAll.loc[:, location] = states[location].positiveDaily\n",
    "        positiveGrowthAll.loc[:, location] = states[location].positiveGrowth\n",
    "\n",
    "   \n",
    "  "
   ]
  },
  {
   "cell_type": "code",
   "execution_count": null,
   "metadata": {},
   "outputs": [],
   "source": [
    "states['AZ']"
   ]
  }
 ],
 "metadata": {
  "kernelspec": {
   "display_name": "Python 3",
   "language": "python",
   "name": "python3"
  },
  "language_info": {
   "codemirror_mode": {
    "name": "ipython",
    "version": 3
   },
   "file_extension": ".py",
   "mimetype": "text/x-python",
   "name": "python",
   "nbconvert_exporter": "python",
   "pygments_lexer": "ipython3",
   "version": "3.8.5"
  }
 },
 "nbformat": 4,
 "nbformat_minor": 2
}
